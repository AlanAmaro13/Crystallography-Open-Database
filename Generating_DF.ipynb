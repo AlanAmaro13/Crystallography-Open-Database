{
 "cells": [
  {
   "cell_type": "markdown",
   "id": "52bd9f40-6679-4dd5-b52c-feb877b15fed",
   "metadata": {},
   "source": [
    "# Generating a DF with PyMatGen"
   ]
  },
  {
   "cell_type": "markdown",
   "id": "682bae94-7fbc-4f87-a34c-e8a171807f8a",
   "metadata": {},
   "source": [
    "We present a reuse of the code written by Karen, C. The main objective of this notebooks is to extract the relevant information of the CIF files and storaged them as a DataFrame. The relevant information corresponds to: \n",
    "\n",
    "* Crystal system, Spacial Group, Lattice Parameters and Wyckoff Sites. "
   ]
  },
  {
   "cell_type": "markdown",
   "id": "3524a0b4-3834-4822-8834-5a7dc7a0bd2e",
   "metadata": {},
   "source": [
    "## Versions:"
   ]
  },
  {
   "cell_type": "markdown",
   "id": "0f7f15c9-2ad9-4e0e-9185-47aedff4f84d",
   "metadata": {},
   "source": [
    "This code requieres a series of old versions of the following libraries:"
   ]
  },
  {
   "cell_type": "code",
   "execution_count": null,
   "id": "8c1b66a8-6640-4a2e-b8e5-58b3a40e9bd7",
   "metadata": {
    "scrolled": true
   },
   "outputs": [],
   "source": [
    "#! pip install monty==2021.12.1 plotly==5.4.0 pymatgen==2020.6.8 ruamel.yaml==0.17.17 ruamel.yaml.clib==0.2.6 spglib==1.16.3 tenacity==8.0.1"
   ]
  },
  {
   "cell_type": "markdown",
   "id": "5e183901-73fe-4d7e-a765-5d807bffc0f2",
   "metadata": {},
   "source": [
    "## Libraries"
   ]
  },
  {
   "cell_type": "code",
   "execution_count": 1,
   "id": "7a3f18d7-802c-4bd0-abfc-d0204098dc8e",
   "metadata": {},
   "outputs": [],
   "source": [
    "import pymatgen as mg\n",
    "from pymatgen.symmetry.analyzer import SpacegroupAnalyzer\n",
    "import glob\n",
    "import pandas as pd\n",
    "import re\n",
    "import shutil, os\n",
    "import numpy as np\n",
    "import time\n",
    "import h5py\n",
    "import matplotlib.pyplot as plt\n",
    "import random\n",
    "from tqdm.notebook import tqdm"
   ]
  },
  {
   "cell_type": "code",
   "execution_count": 2,
   "id": "cad3790a-39c9-4c53-8715-e56c43fcc1a1",
   "metadata": {},
   "outputs": [
    {
     "name": "stdout",
     "output_type": "stream",
     "text": [
      "Name: pymatgen\n",
      "Version: 2020.6.8\n",
      "Summary: Python Materials Genomics is a robust materials analysis code that defines core object representations for structures and molecules with support for many electronic structure codes. It is currently the core analysis code powering the Materials Project (https://www.materialsproject.org).\n",
      "Home-page: http://www.pymatgen.org\n",
      "Author: Pymatgen Development Team\n",
      "Author-email: ongsp@eng.ucsd.edu\n",
      "License: MIT\n",
      "Location: /home/bokhimi/.conda/envs/tf-2.11/lib/python3.8/site-packages\n",
      "Requires: matplotlib, monty, networkx, numpy, palettable, pandas, plotly, requests, ruamel.yaml, scipy, spglib, sympy, tabulate\n",
      "Required-by: emmet-core, mp-api\n"
     ]
    }
   ],
   "source": [
    "!pip show pymatgen"
   ]
  },
  {
   "cell_type": "markdown",
   "id": "6c0eed28-7fce-4553-8a64-d15d2c6311f4",
   "metadata": {},
   "source": [
    "## DF Generation"
   ]
  },
  {
   "cell_type": "markdown",
   "id": "d3c09412-043d-4e22-b762-92b94ff5eada",
   "metadata": {},
   "source": [
    "The next function inputs the path where the CIFs are storaged. In the last notebook we split the COD into three groups refering to organic, inorganic and errors. This function will work exactly the same for organic or inorganic compounds."
   ]
  },
  {
   "cell_type": "code",
   "execution_count": 3,
   "id": "807b7629-4aa6-4f78-a52e-99b88d0b0bcd",
   "metadata": {},
   "outputs": [],
   "source": [
    "def create_database(ruta: str):\n",
    "    '''\n",
    "    This functions generates a DataFrame with the CIF relevant information for the XRP simulation\n",
    "    \n",
    "    Args:\n",
    "        ruta (str) : Es la ruta en la que se encuentran los archivos cif\n",
    "        ruta: /home/bokhimi/COD/notebooks_de_preprocesamiento/vero_test/*.cif\n",
    "\n",
    "    Return:\n",
    "        df: es un dataframe que contiene la información de interes de cada archivo cif en ruta\n",
    "        errors: List containing the paths of all the error files.\n",
    "    '''\n",
    "\n",
    "    addrs = glob.glob(ruta)\n",
    "    cif = []\n",
    "    sg_number = []\n",
    "    sg_symbol = []\n",
    "    comp = []\n",
    "    par1 = []\n",
    "    par2 = []\n",
    "    site = []\n",
    "    system = []\n",
    "    errors = []\n",
    "    # len(addrs)\n",
    "    for i in tqdm(range( len(addrs) ), desc = 'Generating DF: ') :\n",
    "        addr = addrs[i]\n",
    "        try:\n",
    "            analyzer = SpacegroupAnalyzer(mg.Structure.from_file(addr))\n",
    "            number=analyzer.get_space_group_number()\n",
    "            symbol=analyzer.get_space_group_symbol()\n",
    "            cs = analyzer.get_crystal_system()\n",
    "            wy = str(analyzer.get_symmetrized_structure()).split('\\n')\n",
    "            compound = wy[2].split(' ')[-1]\n",
    "            abc = list(filter(lambda x: x != \"\", wy[3].split(' ')))[2:]\n",
    "            angles = list(filter(lambda x: x != \"\", wy[4].split(' ')))[1:]\n",
    "            sites = []\n",
    "            for i in range(len(wy)-8):\n",
    "                lista = list(filter(lambda x: x != \"\", wy[i+8].split(' ')))[1:]\n",
    "                if lista[0].find(':')<0:\n",
    "                    lista[0] = lista[0] + ':1'\n",
    "                sites.append(lista)\n",
    "            cif.append(addr.split('.')[0].split('/')[-1])\n",
    "            sg_number.append(number)\n",
    "            sg_symbol.append(symbol)\n",
    "            system.append(cs)\n",
    "            comp.append(compound)\n",
    "            par1.append(abc)\n",
    "            par2.append(angles)\n",
    "            site.append(sites)\n",
    "            \n",
    "        except Exception as e:\n",
    "            errors.append(addr)\n",
    "            \n",
    "        except UserWarning as uw: \n",
    "            pass \n",
    "\n",
    "    df = pd.DataFrame({'cif': cif, 'compound': comp,\n",
    "                       'cs': system, 'sg_number': sg_number, 'sg_symbol': sg_symbol,\n",
    "                       'abc': par1, 'angles': par2, 'sites': site})\n",
    "    \n",
    "    #df.drop_duplicates()\n",
    "    return df, errors"
   ]
  },
  {
   "cell_type": "code",
   "execution_count": 7,
   "id": "5ed96e8b-4b6d-41d1-8382-69c89af364ef",
   "metadata": {
    "scrolled": true
   },
   "outputs": [
    {
     "data": {
      "application/vnd.jupyter.widget-view+json": {
       "model_id": "df3970ebcbf0403ead4f9e93c3a10c9a",
       "version_major": 2,
       "version_minor": 0
      },
      "text/plain": [
       "Generando DF:   0%|          | 0/1 [00:00<?, ?it/s]"
      ]
     },
     "metadata": {},
     "output_type": "display_data"
    },
    {
     "name": "stderr",
     "output_type": "stream",
     "text": [
      "/home/bokhimi/.conda/envs/tf-2.11/lib/python3.8/site-packages/pymatgen/io/cif.py:1012: UserWarning: Some occupancies ([1, 1, 1, 1, 1, 1, 1, 1, 1, 1, 1, 1, 1, 1, 1, 1, 1, 1, 1, 1, 1, 1, 1, 1, 1, 2]) sum to > 1! If they are within the tolerance, they will be rescaled.\n",
      "  warnings.warn(msg)\n",
      "/home/bokhimi/.conda/envs/tf-2.11/lib/python3.8/site-packages/pymatgen/io/cif.py:1116: UserWarning: No structure parsed for 4 structure in CIF. Section of CIF file below.\n",
      "  warnings.warn(\"No structure parsed for %d structure in CIF. Section of CIF file below.\" % (i + 1))\n",
      "/home/bokhimi/.conda/envs/tf-2.11/lib/python3.8/site-packages/pymatgen/io/cif.py:1117: UserWarning: data_CSD_CIF_GEXGUL\n",
      "_audit_creation_date   1989-05-23\n",
      "_audit_creation_method   CSD-ConQuest-V1\n",
      "_database_code_CSD   GEXGUL\n",
      "_chemical_formula_sum   'C4 H12 N5 O3.5 S1'\n",
      "_chemical_formula_moiety   'C4 H11 N5 O3 S1,0.5(H2 O1)'\n",
      "_journal_coeditor_code   'IUCr BX0221'\n",
      "_journal_coden_Cambridge   591\n",
      "_journal_volume   44\n",
      "_journal_year   1988\n",
      "_journal_page_first   1452\n",
      "_journal_name_full   'Acta Crystallogr.,Sect.C:Cryst.Struct.Commun.'\n",
      "loop_\n",
      " _publ_author_name\n",
      "  J.M.Amigo\n",
      "  J.M.Martinez-Calatayud\n",
      "  A.Cantarero\n",
      "  T.Debaerdemaeker\n",
      "_chemical_name_systematic   '1-(2-Sulfoethyl)biguanide hemihydrate'\n",
      "_cell_volume   1844.671\n",
      "_exptl_crystal_density_diffrn   1.505\n",
      "_exptl_special_details\n",
      "'Fw of 209.1 and dx of 1.505 are for the unsolvated complex'\n",
      "_diffrn_ambient_temperature   ?\n",
      "_diffrn_special_details\n",
      "'The study was carried out at room temperature,in the range 283-303K'\n",
      "_refine_ls_R_factor_gt   0.0553\n",
      "_refine_ls_wR_factor_gt   0.0553\n",
      "_symmetry_cell_setting   monoclinic\n",
      "_symmetry_space_group_name_H-M   'C 2/c'\n",
      "_symmetry_Int_Tables_number   15\n",
      "loop_\n",
      " _symmetry_equiv_pos_site_id\n",
      " _symmetry_equiv_pos_as_xyz\n",
      "  1  x,y,z\n",
      "  2  1/2+x,1/2+y,z\n",
      "  3  -x,y,1/2-z\n",
      "  4  1/2-x,1/2+y,1/2-z\n",
      "  5  -x,-y,-z\n",
      "  6  -1/2-x,-1/2-y,-z\n",
      "  7  x,-y,-1/2+z\n",
      "  8  -1/2+x,-1/2-y,-1/2+z\n",
      "_cell_length_a   11.498(10)\n",
      "_cell_length_b   18.902(5)\n",
      "_cell_length_c   9.329(12)\n",
      "_cell_angle_alpha   90\n",
      "_cell_angle_beta   114.52(4)\n",
      "_cell_angle_gamma   90\n",
      "_cell_formula_units_Z   8\n",
      "loop_\n",
      " _atom_type_symbol\n",
      " _atom_type_radius_bond\n",
      "  C  0.68\n",
      "  H  0.23\n",
      "  N  0.68\n",
      "  O  0.68\n",
      "  S  1.02\n",
      "loop_\n",
      " _atom_site_label\n",
      " _atom_site_type_symbol\n",
      " _atom_site_fract_x\n",
      " _atom_site_fract_y\n",
      " _atom_site_fract_z\n",
      "  S1  S  0.6973(1)  0.3717(1)  1.0321(1)\n",
      "  O1  O  0.6083(3)  0.4294(2)  0.9645(5)\n",
      "  O2  O  0.7343(3)  0.3381(2)  0.9171(4)\n",
      "  O3  O  0.8068(3)  0.3922(2)  1.1733(4)\n",
      "  N1  N  0.4109(4)  0.2393(2)  0.9827(5)\n",
      "  N2  N  0.4964(4)  0.1281(3)  1.0509(5)\n",
      "  N3  N  0.3029(4)  0.1596(2)  1.0630(5)\n",
      "  N4  N  0.2449(5)  0.0526(3)  0.9238(5)\n",
      "  N5  N  0.1863(5)  0.0777(3)  1.1257(7)\n",
      "  C1  C  0.5116(5)  0.2708(3)  0.9476(6)\n",
      "  C2  C  0.6134(5)  0.3071(3)  1.0912(6)\n",
      "  C3  C  0.4048(4)  0.1743(2)  1.0303(5)\n",
      "  C4  C  0.2475(4)  0.0957(2)  1.0367(6)\n",
      "  O4  O  0.50000  0.0009(3)  0.25000\n",
      "  H1  H  0.5754(37)  0.3335(20)  1.1514(45)\n",
      "  H2  H  0.2103(40)  0.0193(22)  0.9168(48)\n",
      "  H3  H  0.5002(53)  0.0892(34)  1.0958(67)\n",
      "  H4  H  0.1970(62)  0.1023(33)  1.2069(81)\n",
      "  H5  H  0.6779(58)  0.2722(30)  1.1544(75)\n",
      "  H6  H  0.3571(45)  0.2618(22)  0.9657(52)\n",
      "  H7  H  0.2741(54)  0.0664(29)  0.8491(68)\n",
      "  H8  H  0.4624(50)  0.3040(28)  0.8583(62)\n",
      "  H9  H  0.5592(50)  0.1391(26)  1.0440(56)\n",
      "  H10  H  0.5440(48)  0.2349(26)  0.9026(59)\n",
      "  H11  H  0.1374(59)  0.0475(32)  1.0986(71)\n",
      "  H12  H  0.5614(57)  -0.0267(29)  0.2804(80)\n",
      "  H12B  H  0.4386(57)  -0.0267(29)  0.2196(80)\n",
      "  warnings.warn(str(d))\n",
      "/home/bokhimi/.conda/envs/tf-2.11/lib/python3.8/site-packages/pymatgen/io/cif.py:1118: UserWarning: Error is Species occupancies sum to more than 1!.\n",
      "  warnings.warn(\"Error is %s.\" % str(exc))\n",
      "/home/bokhimi/.conda/envs/tf-2.11/lib/python3.8/site-packages/pymatgen/io/cif.py:1121: UserWarning: Issues encountered while parsing CIF: Some occupancies ([1, 1, 1, 1, 1, 1, 1, 1, 1, 1, 1, 1, 1, 1, 1, 1, 1, 1, 1, 1, 1, 1, 1, 1, 1, 2]) sum to > 1! If they are within the tolerance, they will be rescaled.\n",
      "Species occupancies sum to more than 1!\n",
      "  warnings.warn(\"Issues encountered while parsing CIF: %s\" % \"\\n\".join(self.warnings))\n"
     ]
    }
   ],
   "source": [
    "df_raw, errors = create_database('/home/bokhimi/COD/notebooks_de_preprocesamiento/vero_test/*.cif') # Example"
   ]
  },
  {
   "cell_type": "markdown",
   "id": "2a37a17c-76c2-4584-bd37-ddef8a6ab5de",
   "metadata": {},
   "source": [
    "In this section we can visualize the first 5 elements of the DF: "
   ]
  },
  {
   "cell_type": "code",
   "execution_count": 8,
   "id": "ab47eb55-8175-4f5f-9673-02328be550ec",
   "metadata": {},
   "outputs": [
    {
     "data": {
      "text/html": [
       "<div>\n",
       "<style scoped>\n",
       "    .dataframe tbody tr th:only-of-type {\n",
       "        vertical-align: middle;\n",
       "    }\n",
       "\n",
       "    .dataframe tbody tr th {\n",
       "        vertical-align: top;\n",
       "    }\n",
       "\n",
       "    .dataframe thead th {\n",
       "        text-align: right;\n",
       "    }\n",
       "</style>\n",
       "<table border=\"1\" class=\"dataframe\">\n",
       "  <thead>\n",
       "    <tr style=\"text-align: right;\">\n",
       "      <th></th>\n",
       "      <th>cif</th>\n",
       "      <th>compound</th>\n",
       "      <th>cs</th>\n",
       "      <th>sg_number</th>\n",
       "      <th>sg_symbol</th>\n",
       "      <th>abc</th>\n",
       "      <th>angles</th>\n",
       "      <th>sites</th>\n",
       "    </tr>\n",
       "  </thead>\n",
       "  <tbody>\n",
       "    <tr>\n",
       "      <th>0</th>\n",
       "      <td>search_Metformin</td>\n",
       "      <td>ZnH15C8N7Cl2O5</td>\n",
       "      <td>monoclinic</td>\n",
       "      <td>4</td>\n",
       "      <td>P2_1</td>\n",
       "      <td>[6.213000, 17.514000, 7.173000]</td>\n",
       "      <td>[90.000000, 99.330000, 90.000000]</td>\n",
       "      <td>[[Zn:1, 0.29901, 0.19128, 0.49746, 2a], [H:1, ...</td>\n",
       "    </tr>\n",
       "  </tbody>\n",
       "</table>\n",
       "</div>"
      ],
      "text/plain": [
       "                cif        compound          cs  sg_number sg_symbol  \\\n",
       "0  search_Metformin  ZnH15C8N7Cl2O5  monoclinic          4      P2_1   \n",
       "\n",
       "                               abc                             angles  \\\n",
       "0  [6.213000, 17.514000, 7.173000]  [90.000000, 99.330000, 90.000000]   \n",
       "\n",
       "                                               sites  \n",
       "0  [[Zn:1, 0.29901, 0.19128, 0.49746, 2a], [H:1, ...  "
      ]
     },
     "execution_count": 8,
     "metadata": {},
     "output_type": "execute_result"
    }
   ],
   "source": [
    "df_raw.head()"
   ]
  },
  {
   "cell_type": "code",
   "execution_count": 9,
   "id": "a0ca3599-6d0f-42f5-8b85-9e985e1b562a",
   "metadata": {},
   "outputs": [
    {
     "data": {
      "text/plain": [
       "(1, 8)"
      ]
     },
     "execution_count": 9,
     "metadata": {},
     "output_type": "execute_result"
    }
   ],
   "source": [
    "df_raw.shape"
   ]
  },
  {
   "cell_type": "markdown",
   "id": "489829a3-57c3-40d7-9bdc-863dae9c03ae",
   "metadata": {},
   "source": [
    "We also save the df containing the CIF indexes: "
   ]
  },
  {
   "cell_type": "code",
   "execution_count": 10,
   "id": "3d8e6885-03f6-406f-8b55-506321d59558",
   "metadata": {},
   "outputs": [],
   "source": [
    "cifs_raw = df_raw['cif']\n",
    "cifs_raw = pd.DataFrame({\n",
    "    'cif': cifs_raw\n",
    "})"
   ]
  },
  {
   "cell_type": "code",
   "execution_count": 11,
   "id": "bdc0b6d5-20cd-45a2-974e-54f166b6e964",
   "metadata": {},
   "outputs": [
    {
     "data": {
      "text/plain": [
       "(1, 1)"
      ]
     },
     "execution_count": 11,
     "metadata": {},
     "output_type": "execute_result"
    }
   ],
   "source": [
    "cifs_raw.shape"
   ]
  },
  {
   "cell_type": "markdown",
   "id": "71808e59-e852-4097-8365-42b02473d515",
   "metadata": {},
   "source": [
    "Convert the DataFrames into parquet format: "
   ]
  },
  {
   "cell_type": "code",
   "execution_count": 12,
   "id": "65bbd917-78ce-46c5-b6b0-26cf2d683f05",
   "metadata": {},
   "outputs": [],
   "source": [
    "df_raw.to_parquet('/home/bokhimi/COD/database/dataframes/df_raw_test.parquet', index=False)"
   ]
  },
  {
   "cell_type": "code",
   "execution_count": 13,
   "id": "104d11b6-f1cc-49e9-a29c-1f349ad615ec",
   "metadata": {},
   "outputs": [],
   "source": [
    "cifs_raw.to_parquet('/home/bokhimi/COD/database/dataframes/cifs_raw_test.parquet', index=False)"
   ]
  },
  {
   "cell_type": "markdown",
   "id": "269fb353-6504-4beb-80f1-493ecf5daaa1",
   "metadata": {},
   "source": [
    "And move the error elements into the error folder: "
   ]
  },
  {
   "cell_type": "code",
   "execution_count": 14,
   "id": "a74c884e-98f6-479a-b72e-54dcbe055010",
   "metadata": {},
   "outputs": [
    {
     "data": {
      "application/vnd.jupyter.widget-view+json": {
       "model_id": "c0b21593884541d586fc0f5c7bf3bcef",
       "version_major": 2,
       "version_minor": 0
      },
      "text/plain": [
       "Moviendo errores: 0it [00:00, ?it/s]"
      ]
     },
     "metadata": {},
     "output_type": "display_data"
    }
   ],
   "source": [
    "for i in tqdm( range(len(errors)), desc = 'Moving errors'): # errors\n",
    "    path_er = errors[i]\n",
    "    if os.path.isfile(path_er):\n",
    "        try:\n",
    "            shutil.move(path_er, os.path.join('/home/bokhimi/COD/database/errors', os.path.basename(path_er) ) )\n",
    "        except Exception as e:\n",
    "            print(e)"
   ]
  }
 ],
 "metadata": {
  "kernelspec": {
   "display_name": "Python 3 (ipykernel)",
   "language": "python",
   "name": "python3"
  },
  "language_info": {
   "codemirror_mode": {
    "name": "ipython",
    "version": 3
   },
   "file_extension": ".py",
   "mimetype": "text/x-python",
   "name": "python",
   "nbconvert_exporter": "python",
   "pygments_lexer": "ipython3",
   "version": "3.8.20"
  }
 },
 "nbformat": 4,
 "nbformat_minor": 5
}
