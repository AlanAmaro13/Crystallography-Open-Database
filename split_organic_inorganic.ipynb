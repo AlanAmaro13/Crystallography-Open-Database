{
 "cells": [
  {
   "cell_type": "markdown",
   "id": "5be11d07-da30-439f-bf66-6e497af5ff3f",
   "metadata": {},
   "source": [
    "# CIF Split into Organic and Inorganic Compounds"
   ]
  },
  {
   "cell_type": "markdown",
   "id": "5956ed10-e777-4393-8c7c-8241bfad8fd7",
   "metadata": {},
   "source": [
    "We present a code to iterate over the Crystallographic Open Databse (COD) and split compounts into organinc and inorganic based on their carbon content. We delete all the files that are not possible to read using PyCIFRW and with PyMatGen. \n",
    "\n",
    "To filter the compounds we employed the first block of the CIF as a dictionary. We select the key: _chemical_formula_sum_ to get a string of the chemical formula. To detect the carbon content we filter by 'C' in chemical formula. As there are some inorganic compounds that contain carbon, we classify them as organic. "
   ]
  },
  {
   "cell_type": "markdown",
   "id": "8f739500-40ac-4d3c-950a-669d54b0744d",
   "metadata": {},
   "source": [
    "## Libraries"
   ]
  },
  {
   "cell_type": "code",
   "execution_count": 1,
   "id": "e57b4ca5-4a18-4cb4-b661-212861af56a7",
   "metadata": {},
   "outputs": [],
   "source": [
    "import os \n",
    "from CifFile import CifFile, ReadCif # 4.4.6 version\n",
    "import shutil\n",
    "from tqdm import tqdm # To visualize the iteration \n",
    "from pathlib import Path\n",
    "#!jupyter nbextension enable --py widgetsnbextension\n"
   ]
  },
  {
   "cell_type": "code",
   "execution_count": 6,
   "id": "a1faf98b-920f-4cdd-aa3c-f2fc24b1bd99",
   "metadata": {},
   "outputs": [
    {
     "name": "stdout",
     "output_type": "stream",
     "text": [
      "Name: PyCifRW\n",
      "Version: 4.4.6\n",
      "Summary: CIF/STAR file support for Python\n",
      "Home-page: https://github.com/jamesrhester/pycifrw/blob/development/README.md\n",
      "Author: James Hester\n",
      "Author-email: jamesrhester@gmail.com\n",
      "License: Python 2.0\n",
      "Location: /home/bokhimi/.conda/envs/tf-2.11/lib/python3.8/site-packages\n",
      "Requires: numpy, ply\n",
      "Required-by: \n",
      "Note: you may need to restart the kernel to use updated packages.\n"
     ]
    }
   ],
   "source": [
    "pip show PyCifRW"
   ]
  },
  {
   "cell_type": "markdown",
   "id": "b0da89d7-6040-436e-add1-ae672a14c7fe",
   "metadata": {},
   "source": [
    "## Example"
   ]
  },
  {
   "cell_type": "markdown",
   "id": "2d8a0978-e810-4655-82da-a39509b54ee9",
   "metadata": {},
   "source": [
    "Declare the path to the _cif_ file, y and use the ReadCif method. "
   ]
  },
  {
   "cell_type": "code",
   "execution_count": null,
   "id": "80060feb-140c-4a27-a591-5c23a6c204e2",
   "metadata": {
    "scrolled": true
   },
   "outputs": [],
   "source": [
    "cif_data = ReadCif('./2300563.cif') "
   ]
  },
  {
   "cell_type": "markdown",
   "id": "34ad3930-40da-4ec8-89cc-64ade79d8747",
   "metadata": {},
   "source": [
    "Extract the relevant properties of the first block:"
   ]
  },
  {
   "cell_type": "code",
   "execution_count": null,
   "id": "65a8df1c-1bdb-4175-85af-0575a26202fd",
   "metadata": {},
   "outputs": [],
   "source": [
    "structure = cif_data.first_block() # Extraemos la informacion"
   ]
  },
  {
   "cell_type": "markdown",
   "id": "c322e114-6bda-4e83-b685-f65e33e2d4d1",
   "metadata": {},
   "source": [
    "Which they are:"
   ]
  },
  {
   "cell_type": "code",
   "execution_count": null,
   "id": "77a3f222-f75f-4e60-be31-2fcef242601b",
   "metadata": {
    "scrolled": true
   },
   "outputs": [],
   "source": [
    "structure.keys()"
   ]
  },
  {
   "cell_type": "markdown",
   "id": "d9d25f42-5480-4911-86fd-ec549502163e",
   "metadata": {},
   "source": [
    "We are going to filtrate by Carbon content. The presence of Carbon is written in the Chemical Formula with the letter C. "
   ]
  },
  {
   "cell_type": "code",
   "execution_count": null,
   "id": "b5718f72-3631-488d-b668-d44525360483",
   "metadata": {},
   "outputs": [],
   "source": [
    "formula = structure['_chemical_formula_sum']\n",
    "formula"
   ]
  },
  {
   "cell_type": "code",
   "execution_count": null,
   "id": "70cc589d-0c6f-4aa3-8fa5-cf3d2700856a",
   "metadata": {},
   "outputs": [],
   "source": [
    "type(formula) "
   ]
  },
  {
   "cell_type": "code",
   "execution_count": null,
   "id": "701bd248-06b9-469e-b349-585a90a69560",
   "metadata": {},
   "outputs": [],
   "source": [
    "'C' in formula"
   ]
  },
  {
   "cell_type": "markdown",
   "id": "c227057c-a5d7-4fd2-9872-a8c494e94f7c",
   "metadata": {},
   "source": [
    "Define a function that outputs True if the compound contains Carbon in it:"
   ]
  },
  {
   "cell_type": "code",
   "execution_count": null,
   "id": "f4d2bbbe-73ec-4dd1-b412-35178eecc872",
   "metadata": {},
   "outputs": [],
   "source": [
    "def does_it_has_carbon(path: str):\n",
    "    '''\n",
    "    Returns True if the compounts contains carbon\n",
    "\n",
    "    Args:\n",
    "        path (str): Path to the CIF file\n",
    "\n",
    "    Output: True/False (bool): Refers to the carbon presence in the compound\n",
    "    '''\n",
    "    return 'C' in (ReadCif(path).first_block())['_chemical_formula_sum']\n",
    "    "
   ]
  },
  {
   "cell_type": "code",
   "execution_count": null,
   "id": "d479e446-94c9-47d6-8f3a-cbf47692e24f",
   "metadata": {},
   "outputs": [],
   "source": [
    "does_it_has_carbon('/home/bokhimi/COD/database/cif/1/00/02/1000229.cif')"
   ]
  },
  {
   "cell_type": "markdown",
   "id": "e0b1b0ba-2fcf-4780-84d8-78e86b4b5242",
   "metadata": {},
   "source": [
    "## Iteration:"
   ]
  },
  {
   "cell_type": "markdown",
   "id": "0a2c7097-7b9a-495c-a4ab-4ce9e3cd317f",
   "metadata": {},
   "source": [
    "Specify the path where the database is storaged: "
   ]
  },
  {
   "cell_type": "code",
   "execution_count": null,
   "id": "7baf164b-5553-44d3-8a1a-6c3dec3d4355",
   "metadata": {},
   "outputs": [],
   "source": [
    "path = '/home/COD/database'"
   ]
  },
  {
   "cell_type": "markdown",
   "id": "54e79a28-e5cc-4b05-9e8e-ed2b9b8f4bf5",
   "metadata": {},
   "source": [
    "In this path, we will create three folders refering to organic, inorganic and errors."
   ]
  },
  {
   "cell_type": "code",
   "execution_count": null,
   "id": "545d6089-730c-4257-adfd-d1e56452956d",
   "metadata": {},
   "outputs": [],
   "source": [
    "organic = os.path.join(path, 'organic')\n",
    "inorganic = os.path.join(path, 'inorganic')\n",
    "er_f = os.path.join(path, 'errors')\n",
    "\n",
    "os.makedirs(organic, exist_ok= True)\n",
    "os.makedirs(inorganic, exist_ok = True)\n",
    "os.makedirs(er_f, exist_ok = True)\n"
   ]
  },
  {
   "cell_type": "markdown",
   "id": "88f590a3-4d07-4728-aa78-bcd548a43a49",
   "metadata": {},
   "source": [
    "Get the path where the CIF files are storaged:"
   ]
  },
  {
   "cell_type": "code",
   "execution_count": null,
   "id": "1e99f9b9-8c5d-499d-a82f-26939848839f",
   "metadata": {},
   "outputs": [],
   "source": [
    "path_dataset = Path(path + '/cif')"
   ]
  },
  {
   "cell_type": "markdown",
   "id": "ae6e9fe3-af82-470c-95b0-07a782545c26",
   "metadata": {},
   "source": [
    "Now we iterate over the address, as the main folder contains a substatial amount of subfolders this process may take a while. We are getting the path of each compunds into three separate lists."
   ]
  },
  {
   "cell_type": "code",
   "execution_count": null,
   "id": "972600e8-a2dd-499e-907c-9582f2f5ddb7",
   "metadata": {},
   "outputs": [],
   "source": [
    "organic_list = []\n",
    "inorganic_list = []\n",
    "errors = []\n",
    "\n",
    "i = 0\n",
    "for filename in tqdm( path_dataset.rglob('*') , desc = 'Splitting compunds...'): # Get the dir\n",
    "    if filename.suffix == '.cif': # Check the suffix\n",
    "        i+= 1\n",
    "        path_cif = str(filename) #os.path.join(path_dataset, filename) # CIF path\n",
    "\n",
    "        try: #\n",
    "            if does_it_has_carbon(path_cif):\n",
    "                organic_list.append(path_cif)\n",
    "\n",
    "            elif does_it_has_carbon(path_cif) == False:\n",
    "                inorganic_list.append(path_cif)\n",
    "                \n",
    "        except Exception as e:\n",
    "            errors.append(path_cif)\n",
    "\n"
   ]
  },
  {
   "cell_type": "code",
   "execution_count": null,
   "id": "e625fab4-c96b-443d-8524-dc7fcce0cc85",
   "metadata": {},
   "outputs": [],
   "source": [
    "print('''El cantidad de CIF es: {:}\n",
    "\n",
    "La cantidad de orgánicos es: {:}\n",
    "\n",
    "La cantidad de inorgánicos es: {:}\n",
    "\n",
    "La cantidad de errores es: {:}'''.format( i,\n",
    "                                        len(organic_list),\n",
    "                                        len(inorganic_list),\n",
    "                                        len(errors)\n",
    "                                         ))"
   ]
  },
  {
   "cell_type": "markdown",
   "id": "88bab119-95ae-4bda-bf33-472ac8f90d9b",
   "metadata": {},
   "source": [
    "As we got the paths, now we copy the files into the created folders:"
   ]
  },
  {
   "cell_type": "code",
   "execution_count": null,
   "id": "6957b802-535e-4702-b215-d37bffceba6a",
   "metadata": {},
   "outputs": [],
   "source": [
    "for i in tqdm( range(len(organic_list)), desc = 'Moving organic'): # organic_list\n",
    "    path_org = organic_list[i]\n",
    "    if os.path.isfile(path_org):\n",
    "        try:\n",
    "            shutil.copy(path_org, os.path.join(organic, os.path.basename(path_org) ) )\n",
    "        except Exception as e:\n",
    "            print(e)"
   ]
  },
  {
   "cell_type": "code",
   "execution_count": null,
   "id": "0a8efa85-825b-45c4-b93e-42a98ce0c738",
   "metadata": {},
   "outputs": [],
   "source": [
    "for i in tqdm(range(len(inorganic_list)), desc = 'Moving inorganic'): # inorganic_list\n",
    "    path_inorg = inorganic_list[i]\n",
    "    if os.path.isfile(path_inorg):\n",
    "        try:\n",
    "            shutil.copy(path_inorg, os.path.join(inorganic, os.path.basename(path_inorg) ) )\n",
    "        except Exception as e:\n",
    "            print(e)"
   ]
  },
  {
   "cell_type": "code",
   "execution_count": null,
   "id": "739f88a8-79ba-4443-aa91-dbe17df5d527",
   "metadata": {},
   "outputs": [],
   "source": [
    "for i in tqdm( range(len(errors)), desc = 'Moving errors'): # errors\n",
    "    path_er = errors[i]\n",
    "    if os.path.isfile(path_er):\n",
    "        try:\n",
    "            shutil.copy(path_er, os.path.join(er_f, os.path.basename(path_er) ) )\n",
    "        except Exception as e:\n",
    "            print(e)"
   ]
  }
 ],
 "metadata": {
  "kernelspec": {
   "display_name": "Python 3 (ipykernel)",
   "language": "python",
   "name": "python3"
  },
  "language_info": {
   "codemirror_mode": {
    "name": "ipython",
    "version": 3
   },
   "file_extension": ".py",
   "mimetype": "text/x-python",
   "name": "python",
   "nbconvert_exporter": "python",
   "pygments_lexer": "ipython3",
   "version": "3.8.20"
  }
 },
 "nbformat": 4,
 "nbformat_minor": 5
}
